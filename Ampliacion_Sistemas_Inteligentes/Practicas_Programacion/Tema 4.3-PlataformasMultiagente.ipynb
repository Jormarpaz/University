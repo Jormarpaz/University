{
  "cells": [
    {
      "cell_type": "markdown",
      "id": "89d458aa",
      "metadata": {},
      "source": [
        "<h1><font color=\"#113D68\" size=6>Tema 4 - Sistemas Multiagentes</font></h1>\n",
        "\n",
        "<h1><font color=\"#113D68\" size=5>Ampliación de Sistemas Inteligentes (CÓDIGO 71014069)</font></h1>\n",
        "\n",
        "<h1><font color=\"#113D68\" size=4>3. Comunicación y Plataformas Multiagente</font></h1>\n",
        "\n",
        "<br><br>\n",
        "<div style=\"text-align: right\">\n",
        "<font color=\"#113D68\" size=3>Manuel Castillo-Cara</font><br>\n",
        "</div>\n",
        "\n",
        "\n",
        "---"
      ]
    },
    {
      "cell_type": "markdown",
      "id": "db3e3a11",
      "metadata": {},
      "source": [
        "La comunicación es un componente esencial para la **coordinación, cooperación y negociación** en sistemas multiagente (SMA).  \n",
        "A diferencia de los intercambios informales, los agentes utilizan **lenguajes de comunicación normalizados** para garantizar interoperabilidad y entendimiento semántico.\n",
        "\n",
        "El estándar más utilizado es **FIPA-ACL (Foundation for Intelligent Physical Agents - Agent Communication Language)**, que define:\n",
        "- **Performativas (speech acts)**: tipo de intención comunicativa del mensaje.\n",
        "- **Estructura estándar** del mensaje (remitente, receptor, contenido, intención, protocolo).\n",
        "- **Protocolos de interacción** que describen el flujo de diálogo (p. ej., *request–reply*, *contract net*, *inform–agree*).\n",
        "\n",
        "> El objetivo de esta práctica es **simular la comunicación estructurada entre agentes** en Python, y analizar cómo los distintos modos (síncrono/asíncrono, directo/broadcast) afectan al rendimiento y la coherencia de las interacciones."
      ]
    },
    {
      "cell_type": "markdown",
      "id": "4e8695a1",
      "metadata": {},
      "source": [
        "---\n",
        "\n",
        "<a id=\"indice\"></a>\n",
        "# <font color=\"#004D7F\" size=6>Índice</font>"
      ]
    },
    {
      "cell_type": "markdown",
      "id": "722070c9",
      "metadata": {},
      "source": [
        "1. [Representación de mensajes FIPA-ACL](#intro)\n",
        "2. [Simulación básica de mensajería entre agentes](#api)\n",
        "3. [Ejemplo: Diálogo request–reply](#algos)\n",
        "4. [Comunicación asíncrona vs síncrona (comparativa)](#obj)\n",
        "5. [Modelo de Mensaje ACL y agentes mínimos](#single)\n",
        "6. [Simulador interactivo: colas e intercambio](#multirun)\n",
        "7. [Interfaz interactiva](#bench)\n",
        "8. [Conclusiones](#vis2d)\n"
      ]
    },
    {
      "cell_type": "markdown",
      "id": "c16141ee",
      "metadata": {},
      "source": [
        "---\n",
        "\n",
        "<a id=\"intro\"></a>\n",
        "# <font color=\"#004D7F\" size=6>1. Representación de mensajes FIPA-ACL</font>"
      ]
    },
    {
      "cell_type": "markdown",
      "id": "7e9a8e78",
      "metadata": {},
      "source": [
        "Cada mensaje FIPA-ACL contiene:\n",
        "- **Performativa:** intención comunicativa (`request`, `inform`, `propose`, `agree`, etc.).  \n",
        "- **Sender/Receiver:** agentes implicados.  \n",
        "- **Content:** información o acción solicitada.  \n",
        "- **Conversation ID:** identificador único que agrupa los mensajes de un mismo diálogo.  \n",
        "- **Timestamp:** marca temporal para trazar la secuencia.\n",
        "\n",
        "Esto reproduce la semántica de los *speech acts* definida por FIPA (Secciones 20.4–20.5)."
      ]
    },
    {
      "cell_type": "code",
      "execution_count": 1,
      "id": "24a07c48",
      "metadata": {},
      "outputs": [],
      "source": [
        "# ==== Mensajes FIPA-ACL simplificados ====\n",
        "from dataclasses import dataclass\n",
        "from datetime import datetime\n",
        "import uuid\n",
        "\n",
        "@dataclass\n",
        "class ACLMessage:\n",
        "    performative: str\n",
        "    sender: str\n",
        "    receiver: str\n",
        "    content: str\n",
        "    conversation_id: str = None\n",
        "    timestamp: datetime = None\n",
        "\n",
        "    def __post_init__(self):\n",
        "        if self.conversation_id is None:\n",
        "            self.conversation_id = str(uuid.uuid4())[:8]\n",
        "        if self.timestamp is None:\n",
        "            self.timestamp = datetime.now()\n",
        "\n",
        "    def __str__(self):\n",
        "        return (f\"[{self.performative.upper()}] {self.sender} → {self.receiver}: \"\n",
        "                f\"{self.content} ({self.conversation_id})\")"
      ]
    },
    {
      "cell_type": "markdown",
      "id": "cbe1b7cd",
      "metadata": {},
      "source": [
        "---\n",
        "\n",
        "<a id=\"api\"></a>\n",
        "# <font color=\"#004D7F\" size=6>2. Simulación básica de mensajería entre agentes</font>"
      ]
    },
    {
      "cell_type": "markdown",
      "id": "0bc79043",
      "metadata": {},
      "source": [
        "En este mini-simulador:\n",
        "- El objeto `World` actúa como *middleware de mensajería* (similar al contenedor JADE).\n",
        "- Los agentes mantienen una **cola FIFO de mensajes** (`inbox`).\n",
        "- Cada envío crea un objeto `ACLMessage`, que viaja de un agente a otro respetando la semántica del lenguaje FIPA-ACL.\n",
        "\n",
        "> Esto permite modelar diferentes **protocolos de interacción**, desde simples diálogos *request–inform* hasta subastas *contract net*."
      ]
    },
    {
      "cell_type": "code",
      "execution_count": 2,
      "id": "8fe3ed1c",
      "metadata": {},
      "outputs": [],
      "source": [
        "# ==== Simulación de agentes con colas de mensajes ====\n",
        "from collections import deque\n",
        "\n",
        "class Agent:\n",
        "    def __init__(self, name):\n",
        "        self.name = name\n",
        "        self.inbox = deque()\n",
        "\n",
        "    def send(self, msg: ACLMessage, world):\n",
        "        world.route_message(msg)\n",
        "\n",
        "    def receive(self):\n",
        "        if self.inbox:\n",
        "            msg = self.inbox.popleft()\n",
        "            print(f\"{self.name} recibió: {msg}\")\n",
        "\n",
        "class World:\n",
        "    def __init__(self):\n",
        "        self.agents = {}\n",
        "\n",
        "    def register(self, agent):\n",
        "        self.agents[agent.name] = agent\n",
        "\n",
        "    def route_message(self, msg: ACLMessage):\n",
        "        if msg.receiver in self.agents:\n",
        "            self.agents[msg.receiver].inbox.append(msg)"
      ]
    },
    {
      "cell_type": "markdown",
      "id": "b5a78b8c",
      "metadata": {},
      "source": [
        "---\n",
        "\n",
        "<a id=\"algos\"></a>\n",
        "# <font color=\"#004D7F\" size=6>3. Ejemplo: Diálogo request–reply</font>"
      ]
    },
    {
      "cell_type": "markdown",
      "id": "44daad70",
      "metadata": {},
      "source": [
        "Este patrón de comunicación es uno de los más utilizados:\n",
        "1. **Request**: un agente solicita información o acción.\n",
        "2. **Inform/Refuse**: el receptor responde con el resultado o una negativa.\n",
        "\n",
        "Este flujo refleja el **acto de habla** entre agentes y se usa en la coordinación de servicios, consultas de estado o confirmaciones."
      ]
    },
    {
      "cell_type": "code",
      "execution_count": 3,
      "id": "2fab3db4",
      "metadata": {},
      "outputs": [
        {
          "name": "stdout",
          "output_type": "stream",
          "text": [
            "AgenteA recibió: [INFORM] AgenteB → AgenteA: La tarea T3 está completada. (1e6b45a8)\n",
            "AgenteB recibió: [REQUEST] AgenteA → AgenteB: ¿Cuál es el estado de la tarea T3? (1e6b45a8)\n"
          ]
        }
      ],
      "source": [
        "# ==== Ejemplo de comunicación request–reply ====\n",
        "A = Agent(\"AgenteA\")\n",
        "B = Agent(\"AgenteB\")\n",
        "world = World()\n",
        "world.register(A)\n",
        "world.register(B)\n",
        "\n",
        "# Agente A envía una petición\n",
        "msg1 = ACLMessage(\"request\", sender=\"AgenteA\", receiver=\"AgenteB\",\n",
        "                  content=\"¿Cuál es el estado de la tarea T3?\")\n",
        "A.send(msg1, world)\n",
        "\n",
        "# Agente B procesa y responde\n",
        "msg2 = ACLMessage(\"inform\", sender=\"AgenteB\", receiver=\"AgenteA\",\n",
        "                  content=\"La tarea T3 está completada.\",\n",
        "                  conversation_id=msg1.conversation_id)\n",
        "B.send(msg2, world)\n",
        "\n",
        "# Visualización del intercambio\n",
        "A.receive()\n",
        "B.receive()"
      ]
    },
    {
      "cell_type": "markdown",
      "id": "d2037722",
      "metadata": {},
      "source": [
        "---\n",
        "\n",
        "<a id=\"obj\"></a>\n",
        "# <font color=\"#004D7F\" size=6>4. Comunicación asíncrona vs síncrona (comparativa)</font>"
      ]
    },
    {
      "cell_type": "markdown",
      "id": "8b4d72c4",
      "metadata": {},
      "source": [
        "- **Síncrona:** el emisor espera una respuesta antes de continuar; garantiza orden pero puede ralentizar la ejecución.  \n",
        "- **Asíncrona:** los mensajes se procesan en segundo plano, lo que mejora la escalabilidad pero introduce posibles *delays* o *race conditions*.  \n",
        "\n",
        "> En plataformas reales como **JADE**, este comportamiento se gestiona mediante **comportamientos cíclicos** (`CyclicBehaviour`) y **contenedores de mensajes**, garantizando persistencia y entrega fiable."
      ]
    },
    {
      "cell_type": "code",
      "execution_count": 4,
      "id": "eca5c4cd",
      "metadata": {},
      "outputs": [
        {
          "name": "stdout",
          "output_type": "stream",
          "text": [
            "A0 recibió: [INFORM] A2 → A0: Mensaje 0 (sync) (56940681)\n",
            "A3 recibió: [INFORM] A0 → A3: Mensaje 1 (sync) (e5b2c740)\n",
            "A1 recibió: [INFORM] A0 → A1: Mensaje 2 (sync) (bcbf2306)\n",
            "A3 recibió: [INFORM] A2 → A3: Mensaje 3 (sync) (126febb9)\n",
            "A3 recibió: [INFORM] A0 → A3: Mensaje 4 (sync) (fcf5a356)\n",
            "A3 recibió: [INFORM] A2 → A3: Mensaje 0 (async) (d0834e18)\n",
            "A3 recibió: [INFORM] A2 → A3: Mensaje 2 (async) (4275a48f)\n"
          ]
        }
      ],
      "source": [
        "import random, time\n",
        "\n",
        "def simulate_communication(world, agents, mode=\"async\", steps=5):\n",
        "    for i in range(steps):\n",
        "        sender, receiver = random.sample(agents, 2)\n",
        "        msg = ACLMessage(\"inform\", sender=sender.name, receiver=receiver.name,\n",
        "                         content=f\"Mensaje {i} ({mode})\")\n",
        "        sender.send(msg, world)\n",
        "        if mode == \"sync\":\n",
        "            receiver.receive()\n",
        "        else:\n",
        "            if random.random() < 0.5:  # recepción aleatoria\n",
        "                receiver.receive()\n",
        "\n",
        "agents = [Agent(f\"A{i}\") for i in range(4)]\n",
        "world = World()\n",
        "for ag in agents: world.register(ag)\n",
        "\n",
        "simulate_communication(world, agents, mode=\"sync\")\n",
        "simulate_communication(world, agents, mode=\"async\")"
      ]
    },
    {
      "cell_type": "markdown",
      "id": "c06b6c6b",
      "metadata": {},
      "source": [
        "---\n",
        "\n",
        "<a id=\"single\"></a>\n",
        "# <font color=\"#004D7F\" size=6> 5. Modelo de Mensaje ACL y agentes mínimos</font>"
      ]
    },
    {
      "cell_type": "markdown",
      "id": "6f2f6080",
      "metadata": {},
      "source": [
        "**Objetivo.** Explorar cómo los agentes se comunican mediante lenguajes tipo **FIPA-ACL** y cómo distintos **modos de entrega** (síncrono/asíncrono, *unicast*/ *broadcast*) afectan al sistema. El cuaderno incluye salidas **interactivas**: simulación de colas (inboxes) y **cronogramas** de intercambio con métricas de latencia y rendimiento.\n",
        "\n",
        "**Claves teóricas (resumen):**\n",
        "- Mensajes ACL con *performativa* (`request`, `inform`, `propose`, `agree`…), `sender`, `receiver`, `content`, `conversation_id`, `timestamp`.\n",
        "- Patrones de diálogo: *request–reply*, *contract net*, *inform–agree*.\n",
        "- Entrega **síncrona** vs **asíncrona**: consistencia vs escalabilidad.\n",
        "- Difusión **unicast** (un receptor) vs **broadcast** (varios receptores)."
      ]
    },
    {
      "cell_type": "code",
      "execution_count": 5,
      "id": "dc88c30c",
      "metadata": {},
      "outputs": [],
      "source": [
        "# ==== Modelo de mensajes y mini-middleware ====\n",
        "from dataclasses import dataclass\n",
        "from collections import deque, defaultdict\n",
        "from datetime import datetime\n",
        "import uuid, numpy as np\n",
        "import matplotlib.pyplot as plt\n",
        "\n",
        "@dataclass\n",
        "class ACLMessage:\n",
        "    performative: str\n",
        "    sender: str\n",
        "    receiver: str   # 'broadcast' admite lista o el literal 'ALL'\n",
        "    content: str\n",
        "    conversation_id: str = None\n",
        "    t_emit: float = None   # tiempo lógico de emisión\n",
        "\n",
        "    def __post_init__(self):\n",
        "        if self.conversation_id is None:\n",
        "            self.conversation_id = str(uuid.uuid4())[:6]\n",
        "        if self.t_emit is None:\n",
        "            self.t_emit = 0.0\n",
        "\n",
        "class AgentSim:\n",
        "    def __init__(self, name):\n",
        "        self.name = name\n",
        "        self.inbox = deque()\n",
        "        self.busy_until = 0.0  # para modo síncrono\n",
        "\n",
        "    def enqueue(self, msg: ACLMessage):\n",
        "        self.inbox.append(msg)\n",
        "\n",
        "class WorldSim:\n",
        "    def __init__(self, n_agents=5, seed=7):\n",
        "        self.rng = np.random.default_rng(seed)\n",
        "        self.time = 0.0\n",
        "        self.agents = {f\"A{i}\": AgentSim(f\"A{i}\") for i in range(n_agents)}\n",
        "        self.events = []  # (t, kind, data) para timeline\n",
        "\n",
        "    def names(self):\n",
        "        return list(self.agents.keys())\n",
        "\n",
        "    def route(self, msg: ACLMessage, delay=0.0, loss_prob=0.0):\n",
        "        # pérdida de mensajes\n",
        "        if self.rng.random() < loss_prob:\n",
        "            self.events.append((msg.t_emit, \"drop\", (msg.sender, msg.receiver, msg.conversation_id)))\n",
        "            return\n",
        "\n",
        "        receivers = self.names() if (msg.receiver == \"ALL\") else ([msg.receiver] if isinstance(msg.receiver, str) else msg.receiver)\n",
        "        for r in receivers:\n",
        "            deliver_t = msg.t_emit + max(0.0, delay + self.rng.normal(0, delay*0.1))\n",
        "            m2 = ACLMessage(msg.performative, msg.sender, r, msg.content, msg.conversation_id, msg.t_emit)\n",
        "            self.agents[r].enqueue(m2)\n",
        "            self.events.append((deliver_t, \"deliver\", (msg.sender, r, msg.conversation_id)))\n",
        "\n",
        "    def reset_events(self):\n",
        "        self.events.clear()"
      ]
    },
    {
      "cell_type": "markdown",
      "id": "fa708ce1",
      "metadata": {},
      "source": [
        "---\n",
        "\n",
        "<a id=\"multirun\"></a>\n",
        "# <font color=\"#004D7F\" size=6>6. Simulador interactivo: colas e intercambio</font>"
      ]
    },
    {
      "cell_type": "code",
      "execution_count": 7,
      "id": "ec293388",
      "metadata": {},
      "outputs": [],
      "source": [
        "# ==== Motor de simulación con parámetros y generación de métricas ====\n",
        "from ipywidgets import interact, IntSlider, FloatSlider, Dropdown, Checkbox, HBox, VBox, Layout\n",
        "\n",
        "def simulate_run(n_agents=6, steps=60, msg_rate=0.6,\n",
        "                 mode=\"async\", routing=\"unicast\",\n",
        "                 base_delay=0.02, loss_prob=0.0, seed=7):\n",
        "    \"\"\"\n",
        "    Devuelve:\n",
        "      - world (con colas procesadas)\n",
        "      - snapshots: lista de dict {agent: queue_len} por paso\n",
        "      - timeline: lista de eventos (t, kind, data)\n",
        "      - msgs_log: lista de (t_emit, sender, receiver, conv)\n",
        "      - rtts: tiempos ida/vuelta aproximados en 'request–inform' cuando coincide conversation_id\n",
        "    \"\"\"\n",
        "    rng = np.random.default_rng(seed)\n",
        "    world = WorldSim(n_agents=n_agents, seed=seed)\n",
        "    names = world.names()\n",
        "    snapshots = []\n",
        "    msgs_log = []\n",
        "    inflight = {}  # conv -> t_emit para estimar RTT\n",
        "    rtts = []\n",
        "\n",
        "    for step in range(steps):\n",
        "        t = step * base_delay\n",
        "\n",
        "        # generación de mensajes\n",
        "        for s in names:\n",
        "            if rng.random() < msg_rate:\n",
        "                if routing == \"unicast\":\n",
        "                    r = rng.choice([x for x in names if x != s])\n",
        "                else:\n",
        "                    r = \"ALL\"\n",
        "                perf = rng.choice([\"inform\",\"request\"], p=[0.6,0.4])\n",
        "                conv = str(uuid.uuid4())[:6]\n",
        "                msg = ACLMessage(perf, s, r, f\"m{step}\", conversation_id=conv, t_emit=t)\n",
        "                world.route(msg, delay=base_delay, loss_prob=loss_prob)\n",
        "                msgs_log.append((t, s, r, conv, perf))\n",
        "                if perf == \"request\":\n",
        "                    inflight[conv] = t\n",
        "\n",
        "        # procesamiento \"síncrono\": si el agente recibe request, no emite nuevo hasta responder\n",
        "        if mode == \"sync\":\n",
        "            for a in names:\n",
        "                ag = world.agents[a]\n",
        "                if ag.inbox:\n",
        "                    m = ag.inbox.popleft()\n",
        "                    # responder solo a request, con 'inform'\n",
        "                    if m.performative == \"request\":\n",
        "                        reply = ACLMessage(\"inform\", a, m.sender, \"ok\", conversation_id=m.conversation_id, t_emit=t+base_delay)\n",
        "                        world.route(reply, delay=base_delay, loss_prob=loss_prob)\n",
        "                        # RTT\n",
        "                        if reply.conversation_id in inflight:\n",
        "                            rtts.append((reply.t_emit - inflight[reply.conversation_id]))\n",
        "                            inflight.pop(reply.conversation_id, None)\n",
        "        else:\n",
        "            # asíncrono: procesa 0..k mensajes al azar (no necesariamente responde)\n",
        "            k = rng.integers(0, 3)\n",
        "            for _ in range(k):\n",
        "                a = rng.choice(names)\n",
        "                if world.agents[a].inbox:\n",
        "                    m = world.agents[a].inbox.popleft()\n",
        "                    if m.performative == \"request\" and rng.random() < 0.8:\n",
        "                        reply = ACLMessage(\"inform\", a, m.sender, \"ok\", conversation_id=m.conversation_id, t_emit=t+base_delay)\n",
        "                        world.route(reply, delay=base_delay, loss_prob=loss_prob)\n",
        "                        if reply.conversation_id in inflight:\n",
        "                            rtts.append((reply.t_emit - inflight[reply.conversation_id]))\n",
        "                            inflight.pop(reply.conversation_id, None)\n",
        "\n",
        "        snapshots.append({a: len(world.agents[a].inbox) for a in names})\n",
        "\n",
        "    world.events.sort(key=lambda x: x[0])\n",
        "    return world, snapshots, world.events, msgs_log, np.array(rtts)\n",
        "\n",
        "def plot_queues(snapshots):\n",
        "    # heatmap de tamaño de cola por agente y paso\n",
        "    M = np.array([[snap[a] for a in sorted(snap.keys())] for snap in snapshots])\n",
        "    plt.figure(figsize=(6.6,3.6))\n",
        "    plt.imshow(M.T, aspect='auto', cmap='viridis')\n",
        "    plt.yticks(range(M.shape[1]), sorted(snapshots[0].keys()))\n",
        "    plt.xlabel(\"Paso\"); plt.ylabel(\"Agente\")\n",
        "    plt.colorbar(label=\"tamaño inbox\")\n",
        "    plt.title(\"Evolución de colas (inboxes)\")\n",
        "    plt.tight_layout(); plt.show()\n",
        "\n",
        "def plot_timeline(events):\n",
        "    # diagrama de flechas tiempo–agentes\n",
        "    # y = índice por agente; x = tiempo; color = conversation_id\n",
        "    if not events:\n",
        "        print(\"No hay eventos\")\n",
        "        return\n",
        "    # codificación de colores por conv\n",
        "    convs = list({d[2] for _,k,d in events if k==\"deliver\"})\n",
        "    cmap = plt.get_cmap(\"tab20\")\n",
        "    col = {c: cmap(i % 20) for i, c in enumerate(convs)}\n",
        "    agents = sorted({d[0] for _,k,d in events if k==\"deliver\"} | {d[1] for _,k,d in events if k==\"deliver\"})\n",
        "    ymap = {a:i for i,a in enumerate(agents)}\n",
        "\n",
        "    plt.figure(figsize=(8.4,4.2))\n",
        "    for t, k, (s, r, c) in events:\n",
        "        if k!=\"deliver\": \n",
        "            continue\n",
        "        ys, yr = ymap[s], ymap[r]\n",
        "        plt.plot([t, t], [ys, yr], color=col[c], alpha=0.7)\n",
        "        plt.scatter([t], [ys], color=col[c], s=12)\n",
        "        plt.scatter([t], [yr], color=col[c], s=12)\n",
        "    plt.yticks(range(len(agents)), agents)\n",
        "    plt.xlabel(\"Tiempo lógico\"); plt.ylabel(\"Agente\")\n",
        "    plt.title(\"Timeline de entregas (color por conversation_id)\")\n",
        "    plt.tight_layout(); plt.show()\n",
        "\n",
        "def plot_rtt_hist(rtts):\n",
        "    if len(rtts)==0:\n",
        "        print(\"No hay RTTs medidos (faltan conversaciones request→inform).\")\n",
        "        return\n",
        "    plt.figure(figsize=(5.2,3.2))\n",
        "    plt.hist(rtts, bins=16)\n",
        "    plt.xlabel(\"RTT aproximado\"); plt.ylabel(\"frecuencia\")\n",
        "    plt.title(\"Distribución de RTT (request→inform)\")\n",
        "    plt.tight_layout(); plt.show()"
      ]
    },
    {
      "cell_type": "markdown",
      "id": "5911c8c5",
      "metadata": {},
      "source": [
        "---\n",
        "\n",
        "<a id=\"bench\"></a>\n",
        "# <font color=\"#004D7F\" size=6>7. Interfaz interactiva</font>"
      ]
    },
    {
      "cell_type": "markdown",
      "id": "48850fb2",
      "metadata": {},
      "source": [
        "**Mini experimento guiado**:\n",
        "\n",
        "- **Síncrono vs Asíncrono**: fija `msg_rate=0.8` y compara `mode=sync` vs `async`.\n",
        "  - Esperable: en *sync* habrá menos mensajes pendientes (colas más pequeñas) y **RTT** más concentrados.\n",
        "  - En *async* aumenta la **concurrencia**, pero se observan colas más pobladas y RTTs más dispersos.\n",
        "- **Unicast vs Broadcast**: con `routing=broadcast` crece el número de entregas por paso; si `loss_prob` es bajo, la red “se llena” más rápido.\n",
        "- **Pérdida y retardo**: sube `loss_prob` y `base_delay`; observa cómo empeora el **timeline** (líneas más densas y tardías) y la distribución de **RTT** se desplaza a la derecha."
      ]
    },
    {
      "cell_type": "code",
      "execution_count": null,
      "id": "83aec0c0",
      "metadata": {},
      "outputs": [
        {
          "data": {
            "application/vnd.jupyter.widget-view+json": {
              "model_id": "261cf4165f9042f380782c75055bf261",
              "version_major": 2,
              "version_minor": 0
            },
            "text/plain": [
              "interactive(children=(IntSlider(value=6, description='Agentes', max=16, min=3), IntSlider(value=60, descriptio…"
            ]
          },
          "metadata": {},
          "output_type": "display_data"
        }
      ],
      "source": [
        "# ==== Interfaz: sliders y plots ====\n",
        "def run_interactive(n_agents, steps, msg_rate, mode, routing, base_delay, loss_prob, seed):\n",
        "    world, snaps, events, log, rtts = simulate_run(\n",
        "        n_agents=n_agents, steps=steps, msg_rate=msg_rate,\n",
        "        mode=mode, routing=routing, base_delay=base_delay,\n",
        "        loss_prob=loss_prob, seed=seed\n",
        "    )\n",
        "    plot_queues(snaps)\n",
        "    plot_timeline(events)\n",
        "    plot_rtt_hist(rtts)\n",
        "\n",
        "_ = interact(\n",
        "    run_interactive,\n",
        "    n_agents=IntSlider(6, min=3, max=16, step=1, description=\"Agentes\"),\n",
        "    steps=IntSlider(60, min=20, max=200, step=10, description=\"Pasos\"),\n",
        "    msg_rate=FloatSlider(0.6, min=0.1, max=1.0, step=0.05, readout_format=\".2f\", description=\"Msg rate\"),\n",
        "    mode=Dropdown(options=[\"async\",\"sync\"], value=\"async\", description=\"Modo\"),\n",
        "    routing=Dropdown(options=[\"unicast\",\"broadcast\"], value=\"unicast\", description=\"Ruta\"),\n",
        "    base_delay=FloatSlider(0.02, min=0.0, max=0.2, step=0.01, readout_format=\".2f\", description=\"Delay base\"),\n",
        "    loss_prob=FloatSlider(0.0, min=0.0, max=0.3, step=0.02, readout_format=\".2f\", description=\"Pérdida\"),\n",
        "    seed=IntSlider(7, min=1, max=999, step=1, description=\"Seed\")\n",
        ");"
      ]
    },
    {
      "cell_type": "markdown",
      "id": "276b1015",
      "metadata": {},
      "source": [
        "---\n",
        "\n",
        "<a id=\"vis2d\"></a>\n",
        "# <font color=\"#004D7F\" size=6>8. Conclusiones</font>"
      ]
    },
    {
      "cell_type": "markdown",
      "id": "6ffaf113",
      "metadata": {},
      "source": [
        "Este cuaderno ha mostrado cómo la **comunicación estructurada** entre agentes permite coordinar acciones, intercambiar información y mantener coherencia en entornos distribuidos.\n",
        "\n",
        "1. **Lenguaje FIPA-ACL y estructura del mensaje**\n",
        "    - El uso de mensajes con campos explícitos (`performative`, `sender`, `receiver`, `content`, `conversation_id`, `timestamp`) reproduce fielmente la semántica de **FIPA-ACL**.  \n",
        "    - Esto garantiza **interoperabilidad y claridad intencional**, base de los protocolos de interacción definidos en los estándares FIPA (request–reply, contract-net, inform–agree).\n",
        "\n",
        "2. **Comunicación síncrona y asíncrona**\n",
        "    - Los experimentos demostraron cómo los diferentes **modos de entrega** impactan en la dinámica del sistema:\n",
        "        - En modo **síncrono**, los agentes esperan respuesta antes de continuar, lo que reduce el número de mensajes pendientes (colas pequeñas) y genera **baja latencia** (RTT concentrado).  \n",
        "        - En modo **asíncrono**, la comunicación es más fluida y escalable, pero produce colas más pobladas y **mayor variabilidad temporal**, reflejando comportamientos realistas en redes distribuidas.\n",
        "    - El análisis de los *timelines* evidenció que el modo asíncrono favorece la **concurrencia**, mientras que el síncrono preserva la **coherencia secuencial**.\n",
        "\n",
        "3. Unicast y broadcast\n",
        "    - El cambio del modo **unicast** al **broadcast** mostró el efecto de la **difusión masiva** de mensajes: aumenta drásticamente la carga de entrega, pero mejora la **propagación de información** entre agentes.  \n",
        "    - Este comportamiento reproduce el dilema clásico entre **eficiencia local** y **visibilidad global** en sistemas multiagente.\n",
        "\n",
        "4. **Métricas y cronogramas**\n",
        "    - Las visualizaciones interactivas de:\n",
        "        - **colas de mensajes**,  \n",
        "        - **cronogramas de entrega (timeline)**,  \n",
        "        - y **distribuciones de RTT**,  \n",
        "    - permitieron observar en tiempo real cómo la estructura de comunicación y el nivel de pérdida influyen en la **latencia**, **congestión** y **rendimiento colectivo**.  \n",
        "    - Estos gráficos reflejan las mismas métricas que en plataformas reales de mensajería distribuida.\n",
        "\n",
        "5. **Síntesis general**\n",
        "    - La comunicación estructurada constituye el **núcleo funcional de los sistemas multiagente**.  \n",
        "    - A través de protocolos bien definidos y control del flujo de mensajes, los agentes pueden **coordinarse, cooperar y negociar**, alcanzando comportamientos colectivos coherentes sin necesidad de un control centralizado.  "
      ]
    }
  ],
  "metadata": {
    "kernelspec": {
      "display_name": "Python 3",
      "language": "python",
      "name": "python3"
    },
    "language_info": {
      "codemirror_mode": {
        "name": "ipython",
        "version": 3
      },
      "file_extension": ".py",
      "mimetype": "text/x-python",
      "name": "python",
      "nbconvert_exporter": "python",
      "pygments_lexer": "ipython3",
      "version": "3.11.13"
    }
  },
  "nbformat": 4,
  "nbformat_minor": 5
}
