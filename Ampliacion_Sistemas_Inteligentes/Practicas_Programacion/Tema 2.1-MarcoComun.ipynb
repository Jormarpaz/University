{
  "cells": [
    {
      "cell_type": "markdown",
      "id": "89d458aa",
      "metadata": {},
      "source": [
        "<h1><font color=\"#113D68\" size=6>Tema 2 - Comptuación Evolutiva</font></h1>\n",
        "\n",
        "<h1><font color=\"#113D68\" size=5>Ampliación de Sistemas Inteligentes (CÓDIGO 71014069)</font></h1>\n",
        "\n",
        "<h1><font color=\"#113D68\" size=4>1. Marco Común para la Evaluación de Algoritmos Evolutivos</font></h1>\n",
        "\n",
        "<br><br>\n",
        "<div style=\"text-align: right\">\n",
        "<font color=\"#113D68\" size=3>Manuel Castillo-Cara</font><br>\n",
        "</div>\n",
        "\n",
        "\n",
        "---"
      ]
    },
    {
      "cell_type": "markdown",
      "id": "db3e3a11",
      "metadata": {},
      "source": [
        "**Objetivo.** Reutilizar/expandir la infraestructura del Tema 1 para ejecutar, medir y comparar **algoritmos evolutivos** (ES) de forma consistente.\n",
        "\n",
        "**Qué aporta este cuaderno**\n",
        "- API unificada para ejecutar AEs con **control de semillas** y **medición de tiempo**.\n",
        "- **Representaciones**: binaria, real y permutacional, con validadores y *decoders*.\n",
        "- **Funciones objetivo** (benchmarks): Sphere, Rastrigin, Ackley (continuas) + OneMax y LeadingOnes (binarias).\n",
        "- **Manejo de restricciones**: penalización aditiva y *feasible-first*.\n",
        "- Plantillas de **visualización**: curvas de convergencia, boxplots y *anytime*.\n",
        "- **Tests unitarios rápidos** para asegurar reproducibilidad.\n",
        "\n",
        "> Nota docente: este cuaderno sirve como **base** sobre la que enchufarás los AEs de los notebooks siguientes (GA binario, GA real/ES, permutacionales, multiobjetivo, etc.)."
      ]
    },
    {
      "cell_type": "code",
      "execution_count": 1,
      "id": "14d88010",
      "metadata": {},
      "outputs": [],
      "source": [
        "# ====== 0. Imports y utilidades base ======\n",
        "from __future__ import annotations\n",
        "import time\n",
        "import math\n",
        "from dataclasses import dataclass\n",
        "from typing import Callable, Dict, Any, Tuple, List, Optional\n",
        "\n",
        "import numpy as np\n",
        "import pandas as pd\n",
        "import matplotlib.pyplot as plt"
      ]
    },
    {
      "cell_type": "markdown",
      "id": "4e8695a1",
      "metadata": {},
      "source": [
        "---\n",
        "\n",
        "<a id=\"indice\"></a>\n",
        "# <font color=\"#004D7F\" size=6>Índice</font>"
      ]
    },
    {
      "cell_type": "markdown",
      "id": "722070c9",
      "metadata": {},
      "source": [
        "1. [Espacio de problemas y funciones objetivo](#intro)\n",
        "2. [Representaciones y validación](#api)\n",
        "3. [Gestión de restricciones](#algos)\n",
        "4. [API unificada de ejecución](#obj)\n",
        "5. [Resúmenes y *multi-run*](#single)\n",
        "6. [Plantillas de visualización](#multirun)\n",
        "7. [Tests unitarios rápidos](#bench)\n",
        "8. [Ejemplo de “algoritmo de juguete” para probar la infraestructura](#vis2d)\n",
        "9. [Plantillas de *multi-run*, boxplot y *anytime*](#widgets)\n",
        "10. [Conclusiones finales](#diez)"
      ]
    },
    {
      "cell_type": "markdown",
      "id": "c16141ee",
      "metadata": {},
      "source": [
        "---\n",
        "\n",
        "<a id=\"intro\"></a>\n",
        "# <font color=\"#004D7F\" size=6>1. Espacio de problemas y funciones objetivo</font>"
      ]
    },
    {
      "cell_type": "markdown",
      "id": "028688ee",
      "metadata": {
        "tags": [
          "intro"
        ]
      },
      "source": [
        "En este cuaderno se definen las **funciones objetivo de referencia** que conforman el espacio de problemas utilizado en el marco experimental. Su función es proporcionar entornos de evaluación controlados que permitan analizar la **eficiencia, robustez y adaptabilidad** de distintos algoritmos evolutivos frente a paisajes de optimización con distinta estructura.\n",
        "\n",
        "Se incluyen tres funciones **continuas estándar** y dos funciones **discretas binarias**, cubriendo escenarios unimodales, multimodales y combinatorios:\n",
        "\n",
        "- **Sphere**: Función convexa y unimodal; mide la **velocidad de convergencia** en paisajes suaves.\n",
        "  $f(\\mathbf{x}) = \\sum_i x_i^2$  \n",
        "  \n",
        "- **Rastrigin**: Altamente multimodal; evalúa la **capacidad de exploración global** frente a óptimos locales periódicos.  \n",
        "  $f(\\mathbf{x}) = 10d + \\sum_i [x_i^2 - 10\\cos(2\\pi x_i)]$  \n",
        "\n",
        "- **Ackley**: Versión clásica continua con valle central; mide la **estabilidad y precisión** en entornos con gradientes suaves.\n",
        "\n",
        "- **OneMax (binaria)**: Maximiza $\\sum_i b_i$; evalúa la **eficacia de operadores genéticos** en espacios discretos simples. \n",
        "\n",
        "- **LeadingOnes (binaria)**: Maximiza el número de unos consecutivos desde el inicio del vector; requiere **preservar dependencia posicional** en los cromosomas.\n",
        "\n",
        "> Estas funciones representan un **banco de pruebas heterogéneo**, donde los algoritmos deben demostrar tanto **capacidad de búsqueda global** como **explotación local eficiente**, aspectos fundamentales del comportamiento evolutivo."
      ]
    },
    {
      "cell_type": "markdown",
      "id": "17121b8e",
      "metadata": {},
      "source": [
        "#### **Resumen de benchmarks (definición, óptimo y dominio recomendado)**\n",
        "\n",
        "| Función        | Definición (forma estándar)    | Óptimo global       | Dominio típico            | Propiedad principal            |\n",
        "|---|---|---|---|---|\n",
        "| Sphere         | $f(\\mathbf{x})=\\sum_{i=1}^d x_i^2$                                                                                      | $\\mathbf{x}^\\star=\\mathbf{0},\\ f=0$ | $[-5.12,5.12]^d$               | Convexa, unimodal, separable   |\n",
        "| Rastrigin      | $f(\\mathbf{x})=10d+\\sum_{i=1}^d\\big[x_i^2-10\\cos(2\\pi x_i)\\big]$                                                        | $\\mathbf{x}^\\star=\\mathbf{0},\\ f=0$ | $[-5.12,5.12]^d$               | Multimodal, separable          |\n",
        "| Ackley         | $f(\\mathbf{x};a,b,c)=-a\\exp\\!\\big(-b\\sqrt{\\tfrac{1}{d}\\sum x_i^2}\\big)-\\exp\\!\\big(\\tfrac{1}{d}\\sum \\cos(c x_i)\\big)+a+e$ | $\\mathbf{x}^\\star=\\mathbf{0},\\ f=0$ | $[-32.768,32.768]^d$          | Multimodal, valle central      |\n",
        "| OneMax (bin.)  | $\\max \\sum_i b_i$                                                                                                       | $\\mathbf{b}^\\star=\\mathbf{1}$       | $\\{0,1\\}^d$                    | Simple, separable              |\n",
        "| LeadingOnes    | $\\max \\sum_{i=1}^d \\prod_{j=1}^i \\mathbb{1}[b_j=1]$                                                                     | $\\mathbf{b}^\\star=\\mathbf{1}$       | $\\{0,1\\}^d$                    | Dependencia posicional         |\n"
      ]
    },
    {
      "cell_type": "code",
      "execution_count": 2,
      "id": "6e687b6e",
      "metadata": {
        "tags": [
          "setup"
        ]
      },
      "outputs": [],
      "source": [
        "# ====== 1. Funciones objetivo ======\n",
        "def sphere(x: np.ndarray) -> float:\n",
        "    x = np.asarray(x, dtype=float)\n",
        "    return float(np.sum(x**2))\n",
        "\n",
        "def rastrigin(x: np.ndarray) -> float:\n",
        "    x = np.asarray(x, dtype=float)\n",
        "    d = x.size\n",
        "    return float(10*d + np.sum(x**2 - 10*np.cos(2*np.pi*x)))\n",
        "\n",
        "def ackley(x: np.ndarray, a: float=20.0, b: float=0.2, c: float=2*np.pi) -> float:\n",
        "    x = np.asarray(x, dtype=float)\n",
        "    d = x.size\n",
        "    term1 = -a*np.exp(-b*np.sqrt(np.sum(x**2)/d))\n",
        "    term2 = -np.exp(np.sum(np.cos(c*x))/d)\n",
        "    return float(term1 + term2 + a + math.e)\n",
        "\n",
        "def onemax(bits: np.ndarray) -> int:\n",
        "    # Maximización\n",
        "    b = np.asarray(bits, dtype=int)\n",
        "    return int(np.sum(b))\n",
        "\n",
        "def leading_ones(bits: np.ndarray) -> int:\n",
        "    b = np.asarray(bits, dtype=int)\n",
        "    count = 0\n",
        "    for bi in b:\n",
        "        if bi == 1:\n",
        "            count += 1\n",
        "        else:\n",
        "            break\n",
        "    return count"
      ]
    },
    {
      "cell_type": "markdown",
      "id": "cbe1b7cd",
      "metadata": {},
      "source": [
        "---\n",
        "\n",
        "<a id=\"api\"></a>\n",
        "# <font color=\"#004D7F\" size=6>2. Representaciones y validación</font>"
      ]
    },
    {
      "cell_type": "markdown",
      "id": "e7675c72",
      "metadata": {
        "tags": [
          "api"
        ]
      },
      "source": [
        "Definimos tres **genotipos** canónicos para cubrir la mayor parte de ejercicios del curso y permitir comparar operadores entre dominios:\n",
        "\n",
        "- **Binaria**: vectores en $\\{0,1\\}^d$ — típicos en codificaciones booleanas y problemas combinatorios simples (OneMax, LeadingOnes).\n",
        "- **Real**: vectores en el hipercubo $[l_i,u_i]$ — apropiados para optimización continua (Sphere, Rastrigin, Ackley).\n",
        "- **Permutación**: reordenaciones de $\\{0,\\dots,n-1\\}$ — usados en problemas de ordenación/ruta (p.ej., TSP).\n",
        "\n",
        "Para cada representación proporcionamos:\n",
        "1) **Creadores de individuos** (*initializers*) coherentes con cada dominio.  \n",
        "2) **Validadores** que aseguran que las soluciones cumplen el **invariante estructural** (dominio binario, caja de límites reales, o permutación válida).  \n",
        "\n",
        "> Esto es clave para: (i) detectar errores de operadores, (ii) depurar experimentos y (iii) garantizar que las métricas comparan objetos válidos."
      ]
    },
    {
      "cell_type": "code",
      "execution_count": 3,
      "id": "8fe3ed1c",
      "metadata": {},
      "outputs": [],
      "source": [
        "# ====== 2. Representaciones ======\n",
        "@dataclass\n",
        "class RealBounds:\n",
        "    lower: np.ndarray\n",
        "    upper: np.ndarray\n",
        "\n",
        "    def clip(self, x: np.ndarray) -> np.ndarray:\n",
        "        return np.clip(x, self.lower, self.upper)\n",
        "\n",
        "# -- Creadores de individuos\n",
        "def create_binary(d: int, rng: np.random.Generator) -> np.ndarray:\n",
        "    return rng.integers(0, 2, size=d, dtype=int)\n",
        "\n",
        "def create_real(bounds: RealBounds, rng: np.random.Generator) -> np.ndarray:\n",
        "    return rng.uniform(bounds.lower, bounds.upper)\n",
        "\n",
        "def create_permutation(n: int, rng: np.random.Generator) -> np.ndarray:\n",
        "    return rng.permutation(n)\n",
        "\n",
        "# -- Validadores\n",
        "def is_binary(x: np.ndarray) -> bool:\n",
        "    return np.all((x == 0) | (x == 1))\n",
        "\n",
        "def is_permutation(x: np.ndarray) -> bool:\n",
        "    # Contiene 0..n-1 exactamente una vez\n",
        "    return np.array_equal(np.sort(x), np.arange(x.size))\n",
        "\n",
        "def in_bounds(x: np.ndarray, bounds: RealBounds) -> bool:\n",
        "    return np.all(x >= bounds.lower) and np.all(x <= bounds.upper)"
      ]
    },
    {
      "cell_type": "markdown",
      "id": "b5a78b8c",
      "metadata": {},
      "source": [
        "---\n",
        "\n",
        "<a id=\"algos\"></a>\n",
        "# <font color=\"#004D7F\" size=6>3. Gestión de restricciones</font>"
      ]
    },
    {
      "cell_type": "markdown",
      "id": "6f45ce91",
      "metadata": {},
      "source": [
        "Cuando la función objetivo se define en un dominio factible  \n",
        "\n",
        "$$\n",
        "\\mathcal{F} = \\{x : g_j(x) \\le 0,\\ \\forall j\\},\n",
        "$$\n",
        "\n",
        "los algoritmos evolutivos deben **priorizar las soluciones factibles** o **guiar las infeasibles** hacia la factibilidad.  \n",
        "Aquí se aplican dos enfoques clásicos y complementarios:\n",
        "\n",
        "\n",
        "#### **Penalización aditiva (minimización)**\n",
        "\n",
        "Se transforma la función en:\n",
        "$$\n",
        "f'(x) = f(x) + \\lambda\\,\\max\\{0,\\,g(x)\\},\n",
        "$$\n",
        "donde $g(x)$ mide la **violación de la restricción**:\n",
        "\n",
        "- Si $g(x) \\le 0$ → la restricción se cumple, **sin penalización**.  \n",
        "- Si $g(x) > 0$ → la restricción se viola, y el valor de $g(x)$ indica **cuánto se viola**, generando una **penalización proporcional**.\n",
        "\n",
        "**Idea:** cuanto mayor sea la violación, mayor será el coste, y el algoritmo tenderá a moverse hacia la región factible.  \n",
        "**Recomendación práctica:** elegir $\\lambda$ según la escala de $f$.  \n",
        "Si $f$ toma valores típicamente en $[10^{-2}, 10^1]$, un $\\lambda$ en el rango $[10^2, 10^4]$ suele ser adecuado.  \n",
        "**Múltiples restricciones:** combinar mediante  \n",
        "$$\n",
        "g(x) = \\sum_j \\max\\{0,\\,g_j(x)\\} \\quad \\text{o una combinación ponderada.}\n",
        "$$\n",
        "\n",
        "\n",
        "#### **Priorización por factibilidad (orden lexicográfico o *feasible-first*)**\n",
        "\n",
        "Se define una puntuación jerárquica (*score*) según la factibilidad:\n",
        "\n",
        "- Si $x$ es **factible (feasible)** ($g(x) \\le 0$) → score = $(0, f(x))$ (se ordena por $f$).  \n",
        "- Si $x$ es **no factible / infactible (infeasible)** ($g(x) > 0$) → score = $(1, g(x))$ (se ordena por **menor violación**).\n",
        "\n",
        "> De este modo, **toda solución factible domina a cualquier infactible**;  \n",
        "> entre las infactibles, se prefiere la de menor violación.\n",
        "\n",
        "#### **Cuándo usar cada método**\n",
        "\n",
        "- **Penalización aditiva:**  \n",
        "  - Simple de implementar.  \n",
        "  - Compatible con selección basada en fitness escalar.  \n",
        "  - Adecuada cuando las restricciones tienen gradientes suaves o penalizaciones proporcionales a la distancia a la factibilidad.\n",
        "\n",
        "- **Feasible-first (lexicográfica):**  \n",
        "  - Ideal cuando las escalas de $f$ y $g$ son muy diferentes.  \n",
        "  - Garantiza que las soluciones factibles se prioricen siempre.  \n",
        "  - Muy útil cuando el espacio factible es pequeño o difícil de alcanzar.\n",
        "\n",
        "> En la práctica, ambos enfoques pueden **combinarse**: primero ordenar por factibilidad (feasible-first) y luego aplicar una **penalización suave** dentro del subconjunto factible para refinar la búsqueda."
      ]
    },
    {
      "cell_type": "code",
      "execution_count": 4,
      "id": "f682f6df",
      "metadata": {},
      "outputs": [],
      "source": [
        "# ====== 3. Restricciones ======\n",
        "def wrap_penalized(f: Callable[[np.ndarray], float],\n",
        "                   g_violation: Callable[[np.ndarray], float],\n",
        "                   lam: float = 1e3) -> Callable[[np.ndarray], float]:\n",
        "    def f_pen(x: np.ndarray) -> float:\n",
        "        return float(f(x) + lam*max(0.0, g_violation(x)))\n",
        "    return f_pen\n",
        "\n",
        "def feasible_first_cmp(f: Callable[[np.ndarray], float],\n",
        "                       g_violation: Callable[[np.ndarray], float]) -> Callable[[np.ndarray], float]:\n",
        "    # Devuelve una \"puntuación\" para ordenar: (is_infeasible, score)\n",
        "    def score(x: np.ndarray) -> Tuple[int, float]:\n",
        "        v = g_violation(x)\n",
        "        if v <= 0.0:\n",
        "            return (0, f(x))      # factible: ordenar por f\n",
        "        else:\n",
        "            return (1, v)         # infeasible: ordenar por menor violación\n",
        "    return score"
      ]
    },
    {
      "cell_type": "markdown",
      "id": "d2037722",
      "metadata": {},
      "source": [
        "---\n",
        "\n",
        "<a id=\"obj\"></a>\n",
        "# <font color=\"#004D7F\" size=6>4. API unificada de ejecución</font>"
      ]
    },
    {
      "cell_type": "markdown",
      "id": "a7cfe66c",
      "metadata": {
        "tags": [
          "obj"
        ]
      },
      "source": [
        "Para comparar algoritmos de manera justa y **reutilizar toda la instrumentación** (gráficas, estadísticas, multi‐run), se fija una **interfaz común** que envuelve la ejecución del método evolutivo y cronometra su rendimiento.\n",
        "\n",
        "**Qué estandariza `run_and_time`:**\n",
        "- **Entrada homogénea**:  \n",
        "  - función objetivo $f(\\cdot)$,  \n",
        "  - generador de soluciones iniciales (población o $x_0$),  \n",
        "  - parámetros del algoritmo (tamaño poblacional, tasas de cruce/mutación, reglas de reemplazo, etc.),  \n",
        "  - presupuesto (iteraciones/evaluaciones) y semilla.\n",
        "- **Salida canónica** (un diccionario):  \n",
        "  - **traza anytime** `f`: la secuencia del mejor valor $f_{\\text{best}}(t)$ por iteración,  \n",
        "  - (opcional) `x`: mejores soluciones asociadas,  \n",
        "  - **mejor solución final** y su valor `f_best`,  \n",
        "  - **metadatos** del experimento (configuración, semillas, dimensiones, límites),  \n",
        "  - **tiempo de ejecución** total.\n",
        "\n",
        "**Por qué es útil:**\n",
        "- Permite **cambiar de algoritmo** (GA, ES, DE, etc.) **sin tocar** las rutinas de análisis/visualización.\n",
        "- Garantiza que todas las métricas (p. ej., AUC, TTE, medianas) se calculen **con la misma semántica**.\n",
        "- Facilita **experimentos reproducibles**: la configuración y el tiempo quedan ligados a cada ejecución.\n",
        "\n",
        "> En resumen, la API unificada separa **lógica de optimización** (el algoritmo) de **medición y evaluación** (trazas, métricas, tiempo), haciendo que el resto del cuaderno sea plug-and-play cuando introduzcas o modifiques algoritmos."
      ]
    },
    {
      "cell_type": "code",
      "execution_count": 5,
      "id": "eca5c4cd",
      "metadata": {},
      "outputs": [],
      "source": [
        "# ====== 4. API de ejecución ======\n",
        "def run_and_time(algorithm_fn: Callable[..., Dict[str, Any]],\n",
        "                 objective: Callable[[np.ndarray], float],\n",
        "                 x0_or_pop: Any,\n",
        "                 rng: np.random.Generator,\n",
        "                 max_iter: int = 500,\n",
        "                 **algo_kwargs) -> Tuple[Dict[str, Any], float]:\n",
        "    \"\"\"\n",
        "    algorithm_fn: callable que debe aceptar (objective, x0_or_pop, rng, max_iter, **algo_kwargs)\n",
        "    y devolver un dict con claves al menos: 'x' (historial), 'f' (historial),\n",
        "    'x_best', 'f_best', 'meta' (dict con 'iters', etc.)\n",
        "    \"\"\"\n",
        "    t0 = time.perf_counter()\n",
        "    result = algorithm_fn(objective, x0_or_pop, rng=rng, max_iter=max_iter, **algo_kwargs)\n",
        "    elapsed = time.perf_counter() - t0\n",
        "    # chequeos mínimos\n",
        "    assert 'x' in result and 'f' in result and 'x_best' in result and 'f_best' in result\n",
        "    result.setdefault('meta', {})\n",
        "    result['meta'].setdefault('iters', len(result['f']))\n",
        "    return result, elapsed"
      ]
    },
    {
      "cell_type": "markdown",
      "id": "c06b6c6b",
      "metadata": {},
      "source": [
        "---\n",
        "\n",
        "<a id=\"single\"></a>\n",
        "# <font color=\"#004D7F\" size=6> 5. Resúmenes y *multi-run*</font>"
      ]
    },
    {
      "cell_type": "markdown",
      "id": "50185794",
      "metadata": {
        "tags": [
          "single"
        ]
      },
      "source": [
        "Para evaluar la **robustez** y la **variabilidad estocástica** de los algoritmos evolutivos, es necesario repetir múltiples ejecuciones independientes con distintas semillas aleatorias. El bloque `multi_run` automatiza este proceso, y `summarize_runs` agrega los resultados en métricas estadísticas comparables.\n",
        "\n",
        "**Repeticiones experimentales (`multi_run`)**: Ejecuta el algoritmo especificado `runs` veces sobre la misma función objetivo.  \n",
        "- Cada ejecución utiliza:\n",
        "  - una semilla distinta para garantizar independencia estadística,  \n",
        "  - una inicialización independiente (`init_builder`),  \n",
        "  - un presupuesto de iteraciones fijo (`max_iter`).\n",
        "- De cada ejecución se registra:\n",
        "  - el mejor valor alcanzado `f_best`,  \n",
        "  - el número de iteraciones efectivas (`iters`),  \n",
        "  - el tiempo de ejecución (`elapsed`).\n",
        "\n",
        "> El resultado es un **DataFrame** donde cada fila representa una ejecución independiente del mismo algoritmo.\n",
        "\n",
        "**Agregación de resultados (`summarize_runs`)**: Agrupa los datos por algoritmo y calcula:\n",
        "- $\\overline{f_{\\text{best}}}$ y su desviación estándar — **precisión y estabilidad**.  \n",
        "- $\\overline{\\text{iters}}$ — **duración media** de las ejecuciones.  \n",
        "- $\\overline{\\text{elapsed}}$ — **coste temporal medio**.  \n",
        "- número total de ejecuciones realizadas (`runs`).\n",
        "\n",
        "> Este resumen permite comparar rendimiento y consistencia entre algoritmos con base estadística, destacando tanto la **eficacia promedio** como la **variabilidad estocástica**.\n",
        "\n",
        "> En síntesis, esta sección introduce la noción de **evaluación empírica replicada**, un estándar metodológico en optimización evolutiva que permite inferir diferencias significativas y comparar algoritmos de forma rigurosa y reproducible."
      ]
    },
    {
      "cell_type": "code",
      "execution_count": 6,
      "id": "a787fa21",
      "metadata": {},
      "outputs": [],
      "source": [
        "# ====== 5. Multi-run y resumen ======\n",
        "def multi_run(algorithm_fn: Callable[..., Dict[str, Any]],\n",
        "              name: str,\n",
        "              objective: Callable[[np.ndarray], float],\n",
        "              init_builder: Callable[[np.random.Generator], Any],\n",
        "              runs: int = 20,\n",
        "              max_iter: int = 500,\n",
        "              seed: int = 1234,\n",
        "              **algo_kwargs) -> pd.DataFrame:\n",
        "    rows = []\n",
        "    for r in range(runs):\n",
        "        rng = np.random.default_rng(seed + r)\n",
        "        init = init_builder(rng)\n",
        "        res, elapsed = run_and_time(algorithm_fn, objective, init, rng, max_iter=max_iter, **algo_kwargs)\n",
        "        rows.append({\n",
        "            'algo': name,\n",
        "            'f_best': res['f_best'],\n",
        "            'iters': res['meta'].get('iters', len(res['f'])),\n",
        "            'elapsed': elapsed\n",
        "        })\n",
        "    return pd.DataFrame(rows)\n",
        "\n",
        "def summarize_runs(df: pd.DataFrame) -> pd.DataFrame:\n",
        "    return (df.groupby('algo')\n",
        "              .agg(f_best_mean=('f_best','mean'),\n",
        "                   f_best_std=('f_best','std'),\n",
        "                   iters_mean=('iters','mean'),\n",
        "                   elapsed_mean=('elapsed','mean'),\n",
        "                   runs=('algo','size'))\n",
        "              .sort_values('f_best_mean'))"
      ]
    },
    {
      "cell_type": "markdown",
      "id": "fa708ce1",
      "metadata": {},
      "source": [
        "---\n",
        "\n",
        "<a id=\"multirun\"></a>\n",
        "# <font color=\"#004D7F\" size=6>6. Plantillas de visualización</font>"
      ]
    },
    {
      "cell_type": "markdown",
      "id": "41d9a3bc",
      "metadata": {
        "tags": [
          "multirun"
        ]
      },
      "source": [
        "Las gráficas son una herramienta esencial para **interpretar dinámicamente** el comportamiento de los algoritmos evolutivos. Esta sección define un conjunto de **plantillas estándar** que permiten representar distintos aspectos del proceso de optimización y de su rendimiento estadístico.\n",
        "\n",
        "**Curva de convergencia**: Muestra la evolución del valor objetivo $f_t$ en función del número de iteraciones.  \n",
        "- Permite visualizar la **tendencia general de mejora** y el ritmo de convergencia.  \n",
        "- Una pendiente descendente pronunciada indica **rápida explotación**; una meseta sugiere **estancamiento**.\n",
        "\n",
        "**Mejor acumulado (convergencia suavizada)**: Esta versión suaviza las oscilaciones y permite comparar **progresión estable** entre algoritmos. Representa el mínimo acumulado que refleja el **mejor valor alcanzado hasta cada iteración**.\n",
        "$$\n",
        "f^*_t = \\min_{i \\le t} f_i,\n",
        "$$\n",
        "\n",
        "**Boxplot del mejor resultado final**: Los diagramas de caja de $f_{\\text{best}}$ resumen el rendimiento de múltiples ejecuciones:  \n",
        "- La **mediana** indica la tendencia central (precisión típica).  \n",
        "- El **rango intercuartílico** mide la **robustez** del algoritmo.  \n",
        "- Los **outliers** muestran ejecuciones atípicas o estancamientos.\n",
        "\n",
        "**Curvas *anytime* (calidad vs tiempo)**: Representan la evolución del mejor valor $f^*(t)$ respecto al **tiempo real de ejecución**. Estas gráficas son independientes del número de iteraciones y reflejan la **eficiencia temporal**:\n",
        "- Curvas más bajas → **mayor calidad en menos tiempo**.  \n",
        "- Permiten comparar algoritmos con diferentes costes por iteración.\n",
        "\n",
        "> En conjunto, estas visualizaciones permiten analizar tres dimensiones del rendimiento: **eficacia** (calidad final), **eficiencia** (velocidad) y **robustez** (variabilidad), proporcionando una base visual coherente para el análisis comparativo de metaheurísticas."
      ]
    },
    {
      "cell_type": "code",
      "execution_count": 7,
      "id": "ec293388",
      "metadata": {},
      "outputs": [],
      "source": [
        "# ====== 6. Gráficas ======\n",
        "def plot_convergence(results: Dict[str, Dict[str, Any]],\n",
        "                     title: str = \"Convergencia (f vs iter)\") -> None:\n",
        "    plt.figure(figsize=(7,5))\n",
        "    for name, res in results.items():\n",
        "        f = np.asarray(res['f'])\n",
        "        plt.plot(f, label=name, linewidth=2)\n",
        "    plt.xlabel(\"Iteración\"); plt.ylabel(\"f(x)\")\n",
        "    plt.title(title); plt.grid(alpha=0.3); plt.legend(); plt.tight_layout(); plt.show()\n",
        "\n",
        "def plot_best_so_far(results: Dict[str, Dict[str, Any]],\n",
        "                     title: str = \"Convergencia suavizada (mejor acumulado)\") -> None:\n",
        "    plt.figure(figsize=(7,5))\n",
        "    for name, res in results.items():\n",
        "        f = np.asarray(res['f'])\n",
        "        fbest = np.minimum.accumulate(f)\n",
        "        plt.plot(fbest, label=name, linewidth=2)\n",
        "    plt.xlabel(\"Iteración\"); plt.ylabel(\"Mejor f(x)\"); plt.title(title)\n",
        "    plt.grid(alpha=0.3); plt.legend(); plt.tight_layout(); plt.show()\n",
        "\n",
        "def boxplot_fbest(df: pd.DataFrame, order: Optional[List[str]]=None, title: str=\"Distribución f_best\") -> None:\n",
        "    plt.figure(figsize=(7,5))\n",
        "    labels = order if order else sorted(df['algo'].unique())\n",
        "    data = [df[df['algo']==lab]['f_best'].values for lab in labels]\n",
        "    plt.boxplot(data, labels=labels)\n",
        "    plt.title(title); plt.xlabel(\"Algoritmo\"); plt.ylabel(\"f_best\"); plt.grid(alpha=0.3)\n",
        "    plt.tight_layout(); plt.show()\n",
        "\n",
        "def anytime_curve(curves: Dict[str, Tuple[np.ndarray, np.ndarray]],\n",
        "                  title: str=\"Curva anytime (mejor f vs tiempo)\") -> None:\n",
        "    \"\"\"\n",
        "    curves[name] = (times_array, best_so_far_array)\n",
        "    \"\"\"\n",
        "    plt.figure(figsize=(7,5))\n",
        "    for name, (ts, bs) in curves.items():\n",
        "        plt.plot(ts, bs, label=name, linewidth=2)\n",
        "    plt.xlabel(\"Tiempo [s]\"); plt.ylabel(\"Mejor f(x)\"); plt.title(title)\n",
        "    plt.grid(alpha=0.3); plt.legend(); plt.tight_layout(); plt.show()"
      ]
    },
    {
      "cell_type": "markdown",
      "id": "5911c8c5",
      "metadata": {},
      "source": [
        "---\n",
        "\n",
        "<a id=\"bench\"></a>\n",
        "# <font color=\"#004D7F\" size=6>7. Tests unitarios rápidos</font>"
      ]
    },
    {
      "cell_type": "markdown",
      "id": "a632a24d",
      "metadata": {},
      "source": [
        "Antes de ejecutar experimentos extensos, es esencial verificar que los **componentes básicos del marco de trabajo** funcionan correctamente. Esta sección implementa una batería de **tests mínimos de coherencia**, orientados a garantizar la **correctitud funcional** de las piezas fundamentales del benchmark evolutivo.\n",
        "\n",
        "**Validación de funciones objetivo**: Se comprueba que las funciones de prueba devuelven los valores esperados en puntos de referencia conocidos:\n",
        "- `sphere(0) = 0`  \n",
        "- `rastrigin(0) = 0`  \n",
        "- `ackley(0) ≈ 0`  \n",
        "\n",
        "> Estas comprobaciones aseguran que los objetivos se implementaron fielmente y que la minimización tenderá hacia el punto óptimo global conocido.\n",
        "\n",
        "**Validación de representaciones**: Se verifican las propiedades estructurales de los individuos generados:\n",
        "- Los vectores binarios solo contienen 0 y 1.  \n",
        "- Las soluciones reales están dentro de los límites definidos.  \n",
        "- Las permutaciones contienen todos los elementos del dominio sin repetición.\n",
        "\n",
        "> Con ello se garantiza que los operadores evolutivos operarán sobre representaciones **válidas y consistentes**.\n",
        "\n",
        "**Validación de la API de ejecución**: Aunque aquí no se prueba exhaustivamente, se asegura que la función de ejecución común (`run_and_time`) devuelva las **claves esperadas** y que su flujo básico funcione correctamente.\n",
        "\n",
        "> En conjunto, estos tests actúan como una **verificación estructural mínima**, asegurando que las funciones, representaciones y envoltorios del marco experimental están correctamente definidos antes de proceder con los experimentos principales."
      ]
    },
    {
      "cell_type": "code",
      "execution_count": 8,
      "id": "a76f6650",
      "metadata": {},
      "outputs": [
        {
          "name": "stdout",
          "output_type": "stream",
          "text": [
            "Tests básicos --> OK\n"
          ]
        }
      ],
      "source": [
        "# ====== 7. Tests rápidos ======\n",
        "rng = np.random.default_rng(7)\n",
        "\n",
        "# --- objetivos: puntos de control\n",
        "assert np.isclose(sphere(np.zeros(3)), 0.0)\n",
        "assert rastrigin(np.zeros(2)) == 0.0 + 10*2 - 10*2  # 20 + sum(0 - 10*1) = 0\n",
        "assert ackley(np.zeros(2)) < 1e-7\n",
        "\n",
        "# --- representaciones\n",
        "b = create_binary(8, rng); assert is_binary(b)\n",
        "bounds = RealBounds(lower=np.full(5, -5.0), upper=np.full(5, 5.0))\n",
        "x = create_real(bounds, rng); assert in_bounds(x, bounds)\n",
        "p = create_permutation(6, rng); assert is_permutation(p)\n",
        "\n",
        "print(\"Tests básicos --> OK\")"
      ]
    },
    {
      "cell_type": "markdown",
      "id": "276b1015",
      "metadata": {},
      "source": [
        "---\n",
        "\n",
        "<a id=\"vis2d\"></a>\n",
        "# <font color=\"#004D7F\" size=6>8. Ejemplo de “algoritmo de juguete” para probar la infraestructura</font>"
      ]
    },
    {
      "cell_type": "markdown",
      "id": "3f7a29fa",
      "metadata": {},
      "source": [
        "Como punto de partida, se implementa un **algoritmo aleatorio mínimo** que servirá para validar la estructura común de ejecución y visualización antes de introducir verdaderos algoritmos evolutivos. Este método no incorpora mecanismos de evolución, selección ni cruce, pero permite probar el flujo completo del benchmark.\n",
        "\n",
        "**Descripción conceptual**: El **Random Search (RS)** realiza una exploración **puramente estocástica** del espacio de búsqueda:\n",
        "- En cada iteración genera una **nueva muestra aleatoria** o una **perturbación local** del candidato actual.  \n",
        "- Evalúa la función objetivo y mantiene el mejor valor encontrado hasta el momento $f^* = \\min_t f(x_t)$.  \n",
        "- No utiliza memoria poblacional ni operadores genéticos, funcionando como un **control experimental base** para medir la dificultad de los problemas.\n",
        "\n",
        "- Matemáticamente, el proceso puede verse como:\n",
        "$$\n",
        "x_{t+1} \\sim \\mathcal{D}(\\mathcal{X}), \\quad f^*_{t+1} = \\min(f^*_t, f(x_{t+1})).\n",
        "$$\n",
        "\n",
        "**Implementación general**\n",
        "- Si el individuo es **real**, se generan perturbaciones gaussianas locales.  \n",
        "- Si es **binario**, se muestrea un nuevo vector de bits aleatorio.  \n",
        "- Si es **permutacional**, se propone una permutación completa aleatoria.\n",
        "\n",
        "- El algoritmo registra:\n",
        "    - la trayectoria de soluciones `x`,  \n",
        "    - los valores evaluados `f`,  \n",
        "    - y el mejor valor global `f_best`.\n",
        "\n",
        "**Propósito dentro del curso**: El *Random Search* actúa como **baseline o modelo nulo**, útil para:\n",
        "- Verificar la **integración del pipeline** (`run_and_time`, gráficas, multi-run).  \n",
        "- Evaluar la **dificultad relativa** de cada función objetivo.  \n",
        "- Servir como referencia para medir la ganancia de rendimiento de los algoritmos evolutivos desarrollados en los siguientes cuadernos.\n",
        "\n",
        "> En resumen, este algoritmo de juguete permite probar de forma segura la **infraestructura experimental** antes de incorporar operadores evolutivos reales, garantizando reproducibilidad y consistencia en los análisis posteriores."
      ]
    },
    {
      "cell_type": "code",
      "execution_count": 9,
      "id": "77b31185",
      "metadata": {},
      "outputs": [],
      "source": [
        "# ====== 8. Random Search (dummy) ======\n",
        "def random_search(objective: Callable[[np.ndarray], float],\n",
        "                  init_builder: Callable[[np.random.Generator], np.ndarray] | np.ndarray,\n",
        "                  rng: np.random.Generator,\n",
        "                  max_iter: int = 200,\n",
        "                  **kwargs) -> Dict[str, Any]:\n",
        "    # Permite pasar un vector inicial o un builder de individuos\n",
        "    if callable(init_builder):\n",
        "        x = init_builder(rng)\n",
        "    else:\n",
        "        x = np.array(init_builder)\n",
        "\n",
        "    f = objective(x)\n",
        "    xs, fs = [x.copy()], [f]\n",
        "    x_best, f_best = x.copy(), f\n",
        "\n",
        "    for t in range(max_iter):\n",
        "        # Proponer uniforme alrededor si es real, o completamente aleatorio en otros casos\n",
        "        if x.dtype.kind in ('f',):  # real\n",
        "            cand = x + rng.normal(0, 0.2, size=x.size)\n",
        "        else:\n",
        "            # nueva muestra “global”\n",
        "            if x.dtype.kind in ('i',) and set(np.unique(x)) <= {0,1}:  # binaria heurística\n",
        "                cand = rng.integers(0, 2, size=x.size, dtype=int)\n",
        "            else:\n",
        "                cand = rng.permutation(x.size) if is_permutation(x) else x\n",
        "\n",
        "        f_cand = objective(cand)\n",
        "        if f_cand < f_best:\n",
        "            x_best, f_best = cand.copy(), f_cand\n",
        "        x = cand; f = f_cand\n",
        "        xs.append(x.copy()); fs.append(f)\n",
        "\n",
        "    return {'x': np.array(xs), 'f': np.array(fs), 'x_best': x_best, 'f_best': f_best,\n",
        "            'meta': {'iters': len(fs)}}"
      ]
    },
    {
      "cell_type": "markdown",
      "id": "d6e5e294",
      "metadata": {},
      "source": [
        "<a id=\"widgets\"></a>\n",
        "# <font color=\"#004D7F\" size=5>8.1. Mini-demostración con Sphere (real) y OneMax (binaria)</font>"
      ]
    },
    {
      "cell_type": "markdown",
      "id": "0507c341",
      "metadata": {},
      "source": [
        "Para comprobar el correcto funcionamiento del marco común de ejecución y visualización, se realiza una **prueba rápida** con dos funciones representativas:\n",
        "\n",
        "**Sphere en $\\mathbb{R}^5$**\n",
        "- El problema *Sphere* constituye un entorno **continuo y unimodal**, ideal para verificar la capacidad de convergencia hacia el óptimo global.  \n",
        "- En este caso, el algoritmo parte de una muestra uniforme en el hipercubo $[-5, 5]^5$ y ejecuta 150 iteraciones de *Random Search*.\n",
        "    - La gráfica de **convergencia** muestra la evolución del valor $f(x_t)$ en función de las iteraciones.  \n",
        "    - La gráfica de **mejor acumulado** refleja la estabilización progresiva de $f^*_t = \\min_{i \\le t} f(x_i)$.\n",
        "\n",
        "> En este tipo de funciones convexas, el *Random Search* tiende a mejorar al inicio pero rápidamente alcanza una meseta, evidenciando su baja eficiencia comparado con métodos evolutivos o graduales.\n",
        "\n",
        "**OneMax en $\\{0,1\\}^{40}$**\n",
        "- En el dominio binario, se aplica la función **OneMax**, que busca maximizar el número de bits iguales a 1.  \n",
        "- Para mantener coherencia con el marco de minimización, se considera la función $f(b) = -\\text{OneMax}(b)$.\n",
        "    - El *Random Search* se limita a generar configuraciones binarias aleatorias sin acumulación de conocimiento.  \n",
        "    - La gráfica de **mejor valor acumulado** muestra una ligera tendencia descendente, aunque con alta variabilidad.\n",
        "\n",
        "> Este experimento ilustra las limitaciones del enfoque puramente aleatorio: en espacios discretos grandes, la probabilidad de mejorar por azar es baja, por lo que los avances son lentos y poco consistentes.\n",
        "\n",
        "**Conclusión**: Esta demostración confirma que:\n",
        "- El marco experimental (inicialización, ejecución y visualización) funciona correctamente en dominios **continuos y discretos**.  \n",
        "- Las curvas generadas sirven como referencia para validar las mejoras que se observarán con los **algoritmos evolutivos reales** en los siguientes cuadernos.\n",
        "\n",
        "> En síntesis, el *Random Search* actúa aquí como un **baseline funcional** que asegura la solidez del entorno antes de introducir operadores de selección, cruce y mutación característicos de las metaheurísticas evolutivas."
      ]
    },
    {
      "cell_type": "code",
      "execution_count": 10,
      "id": "0550fe42",
      "metadata": {},
      "outputs": [
        {
          "name": "stdout",
          "output_type": "stream",
          "text": [
            "Sphere -> f_best: 26.70965582799462 tiempo: 0.0007 s\n"
          ]
        },
        {
          "data": {
            "image/png": "[encoded data removed]",
            "text/plain": [
              "<Figure size 700x500 with 1 Axes>"
            ]
          },
          "metadata": {},
          "output_type": "display_data"
        },
        {
          "data": {
            "image/png": "[encoded data removed]",
            "text/plain": [
              "<Figure size 700x500 with 1 Axes>"
            ]
          },
          "metadata": {},
          "output_type": "display_data"
        },
        {
          "name": "stdout",
          "output_type": "stream",
          "text": [
            "OneMax -> best (en términos de -fitness): -31 tiempo: 0.0016 s\n"
          ]
        },
        {
          "data": {
            "image/png": "[encoded data removed]",
            "text/plain": [
              "<Figure size 700x500 with 1 Axes>"
            ]
          },
          "metadata": {},
          "output_type": "display_data"
        }
      ],
      "source": [
        "# ---- Sphere en R^5\n",
        "rng = np.random.default_rng(10)\n",
        "bounds = RealBounds(lower=np.full(5,-5.0), upper=np.full(5,5.0))\n",
        "init_real = lambda R: create_real(bounds, R)\n",
        "\n",
        "res_sph, t_sph = run_and_time(random_search, sphere, init_real(rng), rng, max_iter=150)\n",
        "print(\"Sphere -> f_best:\", res_sph['f_best'], \"tiempo:\", round(t_sph,4),\"s\")\n",
        "plot_convergence({'RS': res_sph})\n",
        "plot_best_so_far({'RS': res_sph})\n",
        "\n",
        "# ---- OneMax en {0,1}^40 (nota: random search aquí es ilustrativo)\n",
        "rng = np.random.default_rng(11)\n",
        "init_bin = lambda R: create_binary(40, R)\n",
        "# Para maximización, convertimos a minimización de -OneMax (ejemplo de wrapper)\n",
        "f_min_onemax = lambda b: -onemax(b)\n",
        "\n",
        "res_om, t_om = run_and_time(random_search, f_min_onemax, init_bin(rng), rng, max_iter=150)\n",
        "print(\"OneMax -> best (en términos de -fitness):\", res_om['f_best'], \"tiempo:\", round(t_om,4),\"s\")\n",
        "plot_best_so_far({'RS(-OneMax)': res_om})"
      ]
    },
    {
      "cell_type": "markdown",
      "id": "462da0e5",
      "metadata": {},
      "source": [
        "### **Interpretación de los resultados del *Random Search***\n",
        "\n",
        "Los gráficos anteriores ilustran el comportamiento del **Random Search (RS)** al aplicarse sobre dos tipos de funciones (una continua (*Sphere*) y una discreta (*OneMax*)), evidenciando su papel como referencia base dentro del marco experimental.\n",
        "\n",
        "#### **(1) Convergencia en *Sphere***\n",
        "- La primera gráfica muestra la evolución del valor de la función $f(x)$ a lo largo de las iteraciones.  \n",
        "- El RS logra una reducción inicial de $f(x)$ debido a muestreos fortuitos cercanos al óptimo, pero rápidamente entra en una **fase de oscilación aleatoria**, incapaz de refinar la solución.  \n",
        "- Este patrón es típico de algoritmos **sin información de gradiente ni mecanismo de selección**: el progreso depende exclusivamente del azar.\n",
        "\n",
        "#### **(2) Mejor valor acumulado en *Sphere***\n",
        "- El gráfico del mejor valor acumulado $f^*_t = \\min_{i \\le t} f_i$ evidencia una mejora inicial pronunciada, seguida de un estancamiento prolongado.  \n",
        "- Tras unas pocas decenas de iteraciones, el valor se estabiliza alrededor de $f^* \\approx 26.7$, demostrando que el RS **no logra aproximarse al mínimo global** pese al bajo coste computacional (≈ 0.001 s).  \n",
        "- Esta falta de refinamiento confirma la ausencia de **presión selectiva o aprendizaje adaptativo**.\n",
        "\n",
        "#### **(3) Mejor valor acumulado en *OneMax***\n",
        "- En el dominio binario, el RS muestra una dinámica similar.  \n",
        "- Dado que el problema se expresa como la **minimización de $-\\text{OneMax}$**, los valores más negativos representan soluciones con más bits a 1.  \n",
        "- El RS mejora ligeramente durante las primeras iteraciones (de −23 a −31), pero pronto se estanca, sin una tendencia sistemática hacia el óptimo.\n",
        "\n",
        "#### **Conclusión**: Los resultados demuestran que:\n",
        "- El *Random Search* puede obtener **mejoras iniciales por azar**, pero carece de mecanismos de explotación que permitan convergencia sostenida.  \n",
        "- Sirve como **baseline experimental** para validar la infraestructura de ejecución y graficado, pero **no es competitivo** frente a metaheurísticas evolutivas, que combinan exploración guiada, memoria y adaptación.  \n",
        "\n",
        "> En síntesis, este ejercicio confirma la correcta funcionalidad del marco común y establece un punto de comparación de referencia para los algoritmos evolutivos que se implementarán en los cuadernos siguientes."
      ]
    },
    {
      "cell_type": "markdown",
      "id": "27499e22",
      "metadata": {},
      "source": [
        "---\n",
        "\n",
        "<a id=\"widgets\"></a>\n",
        "# <font color=\"#004D7F\" size=6>9. Plantillas de *multi-run*, boxplot y *anytime*</font>"
      ]
    },
    {
      "cell_type": "markdown",
      "id": "20389df9",
      "metadata": {
        "tags": [
          "widgets"
        ]
      },
      "source": [
        "En esta sección se introducen las herramientas de **análisis estadístico y visual** que se reutilizarán en los siguientes cuadernos (GA, ES, etc.) para comparar algoritmos o configuraciones bajo un marco experimental homogéneo.\n",
        "\n",
        "#### **Multi-run: replicación y robustez**\n",
        "\n",
        "La función `multi_run` ejecuta un mismo algoritmo varias veces con **semillas distintas**, generando una muestra **suficientemente amplia** como para estimar **media, varianza y estabilidad de los resultados**.  \n",
        "\n",
        "Cada ejecución produce:\n",
        "- `f_best`: mejor valor encontrado,  \n",
        "- `iters`: número de iteraciones realizadas,  \n",
        "- `elapsed`: tiempo total de ejecución.  \n",
        "\n",
        "Los resultados de las ejecuciones se agregan a una **estructura de datos** (*DataFrame* de *pandas*), que permite calcular **medias, desviaciones estándar y medidas de dispersión** mediante la función `summarize_runs`.\n",
        "\n",
        "> Este enfoque de replicación es esencial en metaheurísticas estocásticas, ya que permite estimar la **robustez** y la **variabilidad del rendimiento** frente a la aleatoriedad inherente a los operadores evolutivos.\n",
        "\n",
        "#### **Boxplot de $f_{\\text{best}}$**\n",
        "\n",
        "El gráfico de cajas resume visualmente la **distribución de los mejores valores** obtenidos por el algoritmo:\n",
        "\n",
        "- La **mediana** representa la tendencia central del rendimiento.  \n",
        "- La **altura de la caja** (rango intercuartílico, IQR) mide la **estabilidad o dispersión** entre ejecuciones.  \n",
        "- Los **outliers** reflejan ejecuciones atípicamente malas o buenas.\n",
        "\n",
        "> En el caso del *Random Search* sobre la función *Sphere*, el boxplot suele mostrar una **dispersión amplia**, indicando **alta variabilidad** y **baja consistencia** entre ejecuciones, como es esperable en métodos no guiados.\n",
        "\n",
        "\n",
        "### **Curva *anytime***\n",
        "\n",
        "La **curva *anytime*** representa el mejor valor alcanzado $f^*(t)$ en función del tiempo o del número de evaluaciones:\n",
        "\n",
        "$$\n",
        "f^*(t) = \\min_{i \\le t} f(x_i)\n",
        "$$\n",
        "\n",
        "Permite evaluar la **eficiencia temporal** de un algoritmo, mostrando cómo mejora la calidad de la solución conforme transcurre el presupuesto de cómputo.\n",
        "\n",
        "> Este tipo de representación es fundamental para comparar metaheurísticas en términos de **calidad vs. tiempo**, ya que algunos métodos pueden converger más rápido aunque alcancen un óptimo final similar.\n",
        "\n",
        "#### **Conclusión**\n",
        "\n",
        "Las herramientas introducidas —*multi-run*, boxplot y curva *anytime*— constituyen la base del **análisis empírico reproducible** en optimización evolutiva.  \n",
        "En los cuadernos siguientes se aplicarán para evaluar **algoritmos genéticos, estrategias evolutivas y variantes híbridas**, permitiendo medir:\n",
        "\n",
        "- Rendimiento medio,  \n",
        "- Estabilidad entre ejecuciones,  \n",
        "- Eficiencia temporal y capacidad de convergencia.\n",
        "\n",
        "> Este marco metodológico es coherente con los estándares experimentales utilizados en la literatura (CEC, GECCO, IEEE Transactions on Evolutionary Computation) y garantiza que los resultados obtenidos sean **comparables, interpretables y reproducibles**."
      ]
    },
    {
      "cell_type": "code",
      "execution_count": null,
      "id": "2cd5895b",
      "metadata": {},
      "outputs": [
        {
          "data": {
            "text/html": [
              "<div>\n",
              "<style scoped>\n",
              "    .dataframe tbody tr th:only-of-type {\n",
              "        vertical-align: middle;\n",
              "    }\n",
              "\n",
              "    .dataframe tbody tr th {\n",
              "        vertical-align: top;\n",
              "    }\n",
              "\n",
              "    .dataframe thead th {\n",
              "        text-align: right;\n",
              "    }\n",
              "</style>\n",
              "<table border=\"1\" class=\"dataframe\">\n",
              "  <thead>\n",
              "    <tr style=\"text-align: right;\">\n",
              "      <th></th>\n",
              "      <th>algo</th>\n",
              "      <th>f_best</th>\n",
              "      <th>iters</th>\n",
              "      <th>elapsed</th>\n",
              "    </tr>\n",
              "  </thead>\n",
              "  <tbody>\n",
              "    <tr>\n",
              "      <th>0</th>\n",
              "      <td>RS</td>\n",
              "      <td>60.363297</td>\n",
              "      <td>151</td>\n",
              "      <td>0.002575</td>\n",
              "    </tr>\n",
              "    <tr>\n",
              "      <th>1</th>\n",
              "      <td>RS</td>\n",
              "      <td>4.302497</td>\n",
              "      <td>151</td>\n",
              "      <td>0.000519</td>\n",
              "    </tr>\n",
              "    <tr>\n",
              "      <th>2</th>\n",
              "      <td>RS</td>\n",
              "      <td>15.558850</td>\n",
              "      <td>151</td>\n",
              "      <td>0.000403</td>\n",
              "    </tr>\n",
              "    <tr>\n",
              "      <th>3</th>\n",
              "      <td>RS</td>\n",
              "      <td>8.575424</td>\n",
              "      <td>151</td>\n",
              "      <td>0.000399</td>\n",
              "    </tr>\n",
              "    <tr>\n",
              "      <th>4</th>\n",
              "      <td>RS</td>\n",
              "      <td>25.506976</td>\n",
              "      <td>151</td>\n",
              "      <td>0.000399</td>\n",
              "    </tr>\n",
              "  </tbody>\n",
              "</table>\n",
              "</div>"
            ],
            "text/plain": [
              "  algo     f_best  iters   elapsed\n",
              "0   RS  60.363297    151  0.002575\n",
              "1   RS   4.302497    151  0.000519\n",
              "2   RS  15.558850    151  0.000403\n",
              "3   RS   8.575424    151  0.000399\n",
              "4   RS  25.506976    151  0.000399"
            ]
          },
          "metadata": {},
          "output_type": "display_data"
        },
        {
          "data": {
            "text/html": [
              "<div>\n",
              "<style scoped>\n",
              "    .dataframe tbody tr th:only-of-type {\n",
              "        vertical-align: middle;\n",
              "    }\n",
              "\n",
              "    .dataframe tbody tr th {\n",
              "        vertical-align: top;\n",
              "    }\n",
              "\n",
              "    .dataframe thead th {\n",
              "        text-align: right;\n",
              "    }\n",
              "</style>\n",
              "<table border=\"1\" class=\"dataframe\">\n",
              "  <thead>\n",
              "    <tr style=\"text-align: right;\">\n",
              "      <th></th>\n",
              "      <th>f_best_mean</th>\n",
              "      <th>f_best_std</th>\n",
              "      <th>iters_mean</th>\n",
              "      <th>elapsed_mean</th>\n",
              "      <th>runs</th>\n",
              "    </tr>\n",
              "    <tr>\n",
              "      <th>algo</th>\n",
              "      <th></th>\n",
              "      <th></th>\n",
              "      <th></th>\n",
              "      <th></th>\n",
              "      <th></th>\n",
              "    </tr>\n",
              "  </thead>\n",
              "  <tbody>\n",
              "    <tr>\n",
              "      <th>RS</th>\n",
              "      <td>33.663631</td>\n",
              "      <td>20.34509</td>\n",
              "      <td>151.0</td>\n",
              "      <td>0.000525</td>\n",
              "      <td>20</td>\n",
              "    </tr>\n",
              "  </tbody>\n",
              "</table>\n",
              "</div>"
            ],
            "text/plain": [
              "      f_best_mean  f_best_std  iters_mean  elapsed_mean  runs\n",
              "algo                                                         \n",
              "RS      33.663631    20.34509       151.0      0.000525    20"
            ]
          },
          "metadata": {},
          "output_type": "display_data"
        },
        {
          "data": {
            "image/png": "[encoded data removed]",
            "text/plain": [
              "<Figure size 700x500 with 1 Axes>"
            ]
          },
          "metadata": {},
          "output_type": "display_data"
        },
        {
          "data": {
            "image/png": "[encoded data removed]",
            "text/plain": [
              "<Figure size 700x500 with 1 Axes>"
            ]
          },
          "metadata": {},
          "output_type": "display_data"
        }
      ],
      "source": [
        "# ---- Multi-run (Sphere) con RS como ejemplo\n",
        "df_rs = multi_run(random_search, 'RS', sphere, init_builder=init_real, runs=20, max_iter=150, seed=2025)\n",
        "display(df_rs.head())\n",
        "display(summarize_runs(df_rs))\n",
        "boxplot_fbest(df_rs, title=\"Distribución f_best — RS en Sphere (20 ejecuciones)\")\n",
        "\n",
        "# ---- Curva anytime (a partir de un resultado)\n",
        "times = np.linspace(0, t_sph, res_sph['meta']['iters'])\n",
        "best_so_far = np.minimum.accumulate(res_sph['f'])\n",
        "anytime_curve({'RS': (times, best_so_far)})"
      ]
    },
    {
      "cell_type": "markdown",
      "id": "434f90ef",
      "metadata": {},
      "source": [
        "### **Interpretación de resultados: *multi-run*, boxplot y curva *anytime***\n",
        "\n",
        "Los resultados obtenidos para el algoritmo **Random Search (RS)** sobre la función *Sphere* permiten evaluar su rendimiento promedio, su variabilidad entre ejecuciones y su comportamiento temporal.\n",
        "\n",
        "#### **(1) Tabla de resultados y resumen estadístico**\n",
        "- La tabla muestra los valores de $f_{\\text{best}}$ en 20 ejecuciones independientes.  \n",
        "- El promedio obtenido (**33.66**) y su desviación estándar (**20.35**) reflejan una **alta dispersión**: algunas ejecuciones logran valores cercanos al óptimo, mientras que otras quedan muy alejadas.  \n",
        "- Esta variabilidad extrema confirma que el rendimiento del RS depende **exclusivamente del azar**.  \n",
        "- El tiempo medio de ejecución (~0.0005 s) evidencia su bajo coste computacional, pero también su **ineficiencia en la mejora sistemática**.\n",
        "\n",
        "#### **(2) Boxplot de $f_{\\text{best}}$**\n",
        "- El diagrama de caja revela una **amplia distribución de resultados**:  \n",
        "   - Los valores mínimos alcanzan aproximadamente $f \\approx 5$,  \n",
        "   - mientras que los máximos superan los $70$.  \n",
        "- La amplitud del rango intercuartílico indica **falta de robustez** y ausencia de convergencia consistente entre ejecuciones.  \n",
        "- En contraste, algoritmos con selección y recombinación tienden a mostrar cajas más compactas (menor variabilidad) y medianas más bajas.\n",
        "\n",
        "#### **(3) Curva *anytime* (calidad vs tiempo)**\n",
        "- La curva *anytime* muestra la evolución del mejor valor alcanzado a lo largo del tiempo.  \n",
        "- Las mejoras se concentran en las primeras evaluaciones y luego la curva se aplana completamente, señal de que el algoritmo **no explora de manera dirigida**.  \n",
        "- No se observa convergencia progresiva ni refinamiento local: cada evaluación es independiente de la anterior.\n",
        "\n",
        "**Conclusión general**: El *Random Search*:\n",
        "- **Es rápido pero inconsistente**, con grandes fluctuaciones de rendimiento.  \n",
        "- No presenta **memoria ni aprendizaje**, por lo que carece de capacidad de mejora continua.  \n",
        "- Es útil únicamente como **baseline metodológico** para verificar la infraestructura del benchmark y contextualizar el desempeño de los algoritmos evolutivos que se desarrollarán a continuación."
      ]
    },
    {
      "cell_type": "markdown",
      "id": "5c846457",
      "metadata": {},
      "source": [
        "---\n",
        "\n",
        "<a id=\"diez\"></a>\n",
        "# <font color=\"#004D7F\" size=6>10. Conclusiones finales</font>"
      ]
    },
    {
      "cell_type": "markdown",
      "id": "c2d21742",
      "metadata": {},
      "source": [
        "El cuaderno establece la **infraestructura esencial para la experimentación con algoritmos evolutivos**, integrando en un mismo entorno todos los componentes necesarios para un análisis sistemático y reproducible:\n",
        "\n",
        "1. **Definición modular de problemas:**  \n",
        "   - Se implementaron funciones objetivo estándar (*Sphere*, *Rastrigin*, *Ackley*, *OneMax*, *LeadingOnes*) y representaciones coherentes para espacios **continuos, binarios y permutacionales**.\n",
        "\n",
        "2. **Interfaz unificada de ejecución:**  \n",
        "   - La función `run_and_time` proporciona una estructura homogénea de entrada/salida, asegurando compatibilidad entre algoritmos de distinta naturaleza (**GA**, **ES**, *Random Search*, etc.).\n",
        "\n",
        "3. **Gestión de restricciones y representación robusta:**  \n",
        "   - Se integraron mecanismos de **penalización y comparación lexicográfica**, junto con validadores para dominios y tipos de individuos.\n",
        "\n",
        "4. **Análisis estadístico y visualización:**  \n",
        "   - Las funciones de *multi-run*, *boxplot* y *curvas anytime* permiten estudiar la **robustez, eficiencia temporal y estabilidad** de los algoritmos bajo condiciones replicables.\n",
        "\n",
        "5. **Validación empírica:**  \n",
        "   - El uso de *Random Search* como referencia base confirmó la **correcta operatividad del marco experimental**, verificando el flujo completo desde la definición de problemas hasta la visualización de resultados.\n",
        "\n",
        "\n",
        "> En conjunto, este cuaderno proporciona una **base metodológica sólida, extensible y coherente con la literatura científica** para el estudio comparativo de algoritmos evolutivos.  \n",
        "> A partir de esta estructura, los siguientes cuadernos (2.2 a 2.7) introducirán **operadores genéticos, mecanismos de selección, estrategias evolutivas y variantes híbridas**, permitiendo extender el análisis comparativo hacia **algoritmos evolutivos completos** y su evaluación sobre múltiples dominios y métricas."
      ]
    }
  ],
  "metadata": {
    "kernelspec": {
      "display_name": "Python 3",
      "language": "python",
      "name": "python3"
    },
    "language_info": {
      "codemirror_mode": {
        "name": "ipython",
        "version": 3
      },
      "file_extension": ".py",
      "mimetype": "text/x-python",
      "name": "python",
      "nbconvert_exporter": "python",
      "pygments_lexer": "ipython3",
      "version": "3.11.13"
    }
  },
  "nbformat": 4,
  "nbformat_minor": 5
}
